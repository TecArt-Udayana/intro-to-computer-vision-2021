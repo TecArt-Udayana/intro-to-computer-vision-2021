{
 "cells": [
  {
   "cell_type": "code",
   "execution_count": 1,
   "id": "caring-university",
   "metadata": {},
   "outputs": [
    {
     "output_type": "stream",
     "name": "stdout",
     "text": [
      "Collecting opencv-python\n",
      "  Using cached opencv_python-4.5.1.48-cp38-cp38-macosx_10_13_x86_64.whl (40.3 MB)\n",
      "Requirement already satisfied: numpy>=1.17.3 in /Users/hariangr/opt/anaconda3/lib/python3.8/site-packages (from opencv-python) (1.19.2)\n",
      "Installing collected packages: opencv-python\n",
      "Successfully installed opencv-python-4.5.1.48\n",
      "Requirement already satisfied: matplotlib in /Users/hariangr/opt/anaconda3/lib/python3.8/site-packages (3.3.2)\n",
      "Requirement already satisfied: numpy>=1.15 in /Users/hariangr/opt/anaconda3/lib/python3.8/site-packages (from matplotlib) (1.19.2)\n",
      "Requirement already satisfied: kiwisolver>=1.0.1 in /Users/hariangr/opt/anaconda3/lib/python3.8/site-packages (from matplotlib) (1.3.0)\n",
      "Requirement already satisfied: pillow>=6.2.0 in /Users/hariangr/opt/anaconda3/lib/python3.8/site-packages (from matplotlib) (8.0.1)\n",
      "Requirement already satisfied: cycler>=0.10 in /Users/hariangr/opt/anaconda3/lib/python3.8/site-packages (from matplotlib) (0.10.0)\n",
      "Requirement already satisfied: pyparsing!=2.0.4,!=2.1.2,!=2.1.6,>=2.0.3 in /Users/hariangr/opt/anaconda3/lib/python3.8/site-packages (from matplotlib) (2.4.7)\n",
      "Requirement already satisfied: python-dateutil>=2.1 in /Users/hariangr/opt/anaconda3/lib/python3.8/site-packages (from matplotlib) (2.8.1)\n",
      "Requirement already satisfied: certifi>=2020.06.20 in /Users/hariangr/opt/anaconda3/lib/python3.8/site-packages (from matplotlib) (2020.6.20)\n",
      "Requirement already satisfied: six in /Users/hariangr/opt/anaconda3/lib/python3.8/site-packages (from cycler>=0.10->matplotlib) (1.15.0)\n"
     ]
    }
   ],
   "source": [
    "!pip install opencv-python\n",
    "!pip install matplotlib"
   ]
  },
  {
   "cell_type": "code",
   "execution_count": 4,
   "id": "abroad-shooting",
   "metadata": {},
   "outputs": [],
   "source": [
    "import cv2\n",
    "import matplotlib.pyplot as plt"
   ]
  },
  {
   "cell_type": "code",
   "execution_count": 5,
   "id": "eleven-graduate",
   "metadata": {},
   "outputs": [
    {
     "output_type": "execute_result",
     "data": {
      "text/plain": [
       "<matplotlib.image.AxesImage at 0x7f93e63904f0>"
      ]
     },
     "metadata": {},
     "execution_count": 5
    },
    {
     "output_type": "display_data",
     "data": {
      "text/plain": "<Figure size 432x288 with 1 Axes>",
      "image/svg+xml": "<?xml version=\"1.0\" encoding=\"utf-8\" standalone=\"no\"?>\n<!DOCTYPE svg PUBLIC \"-//W3C//DTD SVG 1.1//EN\"\n  \"http://www.w3.org/Graphics/SVG/1.1/DTD/svg11.dtd\">\n<!-- Created with matplotlib (https://matplotlib.org/) -->\n<svg height=\"248.693344pt\" version=\"1.1\" viewBox=\"0 0 251.565 248.693344\" width=\"251.565pt\" xmlns=\"http://www.w3.org/2000/svg\" xmlns:xlink=\"http://www.w3.org/1999/xlink\">\n <metadata>\n  <rdf:RDF xmlns:cc=\"http://creativecommons.org/ns#\" xmlns:dc=\"http://purl.org/dc/elements/1.1/\" xmlns:rdf=\"http://www.w3.org/1999/02/22-rdf-syntax-ns#\">\n   <cc:Work>\n    <dc:type rdf:resource=\"http://purl.org/dc/dcmitype/StillImage\"/>\n    <dc:date>2021-03-20T10:31:57.226635</dc:date>\n    <dc:format>image/svg+xml</dc:format>\n    <dc:creator>\n     <cc:Agent>\n      <dc:title>Matplotlib v3.3.2, https://matplotlib.org/</dc:title>\n     </cc:Agent>\n    </dc:creator>\n   </cc:Work>\n  </rdf:RDF>\n </metadata>\n <defs>\n  <style type=\"text/css\">*{stroke-linecap:butt;stroke-linejoin:round;}</style>\n </defs>\n <g id=\"figure_1\">\n  <g id=\"patch_1\">\n   <path d=\"M 0 248.693344 \nL 251.565 248.693344 \nL 251.565 0 \nL 0 0 \nz\n\" style=\"fill:none;\"/>\n  </g>\n  <g id=\"axes_1\">\n   <g id=\"patch_2\">\n    <path d=\"M 26.925 224.815219 \nL 244.365 224.815219 \nL 244.365 7.375219 \nL 26.925 7.375219 \nz\n\" style=\"fill:#ffffff;\"/>\n   </g>\n   <g clip-path=\"url(#pf9b0ab0cfe)\">\n    <image height=\"218\" id=\"image32636cef9f\" transform=\"scale(1 -1)translate(0 -218)\" width=\"218\" x=\"26.925\" xlink:href=\"data:image/png;base64,\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\" y=\"-6.815219\"/>\n   </g>\n   <g id=\"matplotlib.axis_1\">\n    <g id=\"xtick_1\">\n     <g id=\"line2d_1\">\n      <defs>\n       <path d=\"M 0 0 \nL 0 3.5 \n\" id=\"m8ccc7387f5\" style=\"stroke:#000000;stroke-width:0.8;\"/>\n      </defs>\n      <g>\n       <use style=\"stroke:#000000;stroke-width:0.8;\" x=\"30.549\" xlink:href=\"#m8ccc7387f5\" y=\"224.815219\"/>\n      </g>\n     </g>\n     <g id=\"text_1\">\n      <!-- 0 -->\n      <g transform=\"translate(27.36775 239.413656)scale(0.1 -0.1)\">\n       <defs>\n        <path d=\"M 31.78125 66.40625 \nQ 24.171875 66.40625 20.328125 58.90625 \nQ 16.5 51.421875 16.5 36.375 \nQ 16.5 21.390625 20.328125 13.890625 \nQ 24.171875 6.390625 31.78125 6.390625 \nQ 39.453125 6.390625 43.28125 13.890625 \nQ 47.125 21.390625 47.125 36.375 \nQ 47.125 51.421875 43.28125 58.90625 \nQ 39.453125 66.40625 31.78125 66.40625 \nz\nM 31.78125 74.21875 \nQ 44.046875 74.21875 50.515625 64.515625 \nQ 56.984375 54.828125 56.984375 36.375 \nQ 56.984375 17.96875 50.515625 8.265625 \nQ 44.046875 -1.421875 31.78125 -1.421875 \nQ 19.53125 -1.421875 13.0625 8.265625 \nQ 6.59375 17.96875 6.59375 36.375 \nQ 6.59375 54.828125 13.0625 64.515625 \nQ 19.53125 74.21875 31.78125 74.21875 \nz\n\" id=\"DejaVuSans-48\"/>\n       </defs>\n       <use xlink:href=\"#DejaVuSans-48\"/>\n      </g>\n     </g>\n    </g>\n    <g id=\"xtick_2\">\n     <g id=\"line2d_2\">\n      <g>\n       <use style=\"stroke:#000000;stroke-width:0.8;\" x=\"66.789\" xlink:href=\"#m8ccc7387f5\" y=\"224.815219\"/>\n      </g>\n     </g>\n     <g id=\"text_2\">\n      <!-- 5 -->\n      <g transform=\"translate(63.60775 239.413656)scale(0.1 -0.1)\">\n       <defs>\n        <path d=\"M 10.796875 72.90625 \nL 49.515625 72.90625 \nL 49.515625 64.59375 \nL 19.828125 64.59375 \nL 19.828125 46.734375 \nQ 21.96875 47.46875 24.109375 47.828125 \nQ 26.265625 48.1875 28.421875 48.1875 \nQ 40.625 48.1875 47.75 41.5 \nQ 54.890625 34.8125 54.890625 23.390625 \nQ 54.890625 11.625 47.5625 5.09375 \nQ 40.234375 -1.421875 26.90625 -1.421875 \nQ 22.3125 -1.421875 17.546875 -0.640625 \nQ 12.796875 0.140625 7.71875 1.703125 \nL 7.71875 11.625 \nQ 12.109375 9.234375 16.796875 8.0625 \nQ 21.484375 6.890625 26.703125 6.890625 \nQ 35.15625 6.890625 40.078125 11.328125 \nQ 45.015625 15.765625 45.015625 23.390625 \nQ 45.015625 31 40.078125 35.4375 \nQ 35.15625 39.890625 26.703125 39.890625 \nQ 22.75 39.890625 18.8125 39.015625 \nQ 14.890625 38.140625 10.796875 36.28125 \nz\n\" id=\"DejaVuSans-53\"/>\n       </defs>\n       <use xlink:href=\"#DejaVuSans-53\"/>\n      </g>\n     </g>\n    </g>\n    <g id=\"xtick_3\">\n     <g id=\"line2d_3\">\n      <g>\n       <use style=\"stroke:#000000;stroke-width:0.8;\" x=\"103.029\" xlink:href=\"#m8ccc7387f5\" y=\"224.815219\"/>\n      </g>\n     </g>\n     <g id=\"text_3\">\n      <!-- 10 -->\n      <g transform=\"translate(96.6665 239.413656)scale(0.1 -0.1)\">\n       <defs>\n        <path d=\"M 12.40625 8.296875 \nL 28.515625 8.296875 \nL 28.515625 63.921875 \nL 10.984375 60.40625 \nL 10.984375 69.390625 \nL 28.421875 72.90625 \nL 38.28125 72.90625 \nL 38.28125 8.296875 \nL 54.390625 8.296875 \nL 54.390625 0 \nL 12.40625 0 \nz\n\" id=\"DejaVuSans-49\"/>\n       </defs>\n       <use xlink:href=\"#DejaVuSans-49\"/>\n       <use x=\"63.623047\" xlink:href=\"#DejaVuSans-48\"/>\n      </g>\n     </g>\n    </g>\n    <g id=\"xtick_4\">\n     <g id=\"line2d_4\">\n      <g>\n       <use style=\"stroke:#000000;stroke-width:0.8;\" x=\"139.269\" xlink:href=\"#m8ccc7387f5\" y=\"224.815219\"/>\n      </g>\n     </g>\n     <g id=\"text_4\">\n      <!-- 15 -->\n      <g transform=\"translate(132.9065 239.413656)scale(0.1 -0.1)\">\n       <use xlink:href=\"#DejaVuSans-49\"/>\n       <use x=\"63.623047\" xlink:href=\"#DejaVuSans-53\"/>\n      </g>\n     </g>\n    </g>\n    <g id=\"xtick_5\">\n     <g id=\"line2d_5\">\n      <g>\n       <use style=\"stroke:#000000;stroke-width:0.8;\" x=\"175.509\" xlink:href=\"#m8ccc7387f5\" y=\"224.815219\"/>\n      </g>\n     </g>\n     <g id=\"text_5\">\n      <!-- 20 -->\n      <g transform=\"translate(169.1465 239.413656)scale(0.1 -0.1)\">\n       <defs>\n        <path d=\"M 19.1875 8.296875 \nL 53.609375 8.296875 \nL 53.609375 0 \nL 7.328125 0 \nL 7.328125 8.296875 \nQ 12.9375 14.109375 22.625 23.890625 \nQ 32.328125 33.6875 34.8125 36.53125 \nQ 39.546875 41.84375 41.421875 45.53125 \nQ 43.3125 49.21875 43.3125 52.78125 \nQ 43.3125 58.59375 39.234375 62.25 \nQ 35.15625 65.921875 28.609375 65.921875 \nQ 23.96875 65.921875 18.8125 64.3125 \nQ 13.671875 62.703125 7.8125 59.421875 \nL 7.8125 69.390625 \nQ 13.765625 71.78125 18.9375 73 \nQ 24.125 74.21875 28.421875 74.21875 \nQ 39.75 74.21875 46.484375 68.546875 \nQ 53.21875 62.890625 53.21875 53.421875 \nQ 53.21875 48.921875 51.53125 44.890625 \nQ 49.859375 40.875 45.40625 35.40625 \nQ 44.1875 33.984375 37.640625 27.21875 \nQ 31.109375 20.453125 19.1875 8.296875 \nz\n\" id=\"DejaVuSans-50\"/>\n       </defs>\n       <use xlink:href=\"#DejaVuSans-50\"/>\n       <use x=\"63.623047\" xlink:href=\"#DejaVuSans-48\"/>\n      </g>\n     </g>\n    </g>\n    <g id=\"xtick_6\">\n     <g id=\"line2d_6\">\n      <g>\n       <use style=\"stroke:#000000;stroke-width:0.8;\" x=\"211.749\" xlink:href=\"#m8ccc7387f5\" y=\"224.815219\"/>\n      </g>\n     </g>\n     <g id=\"text_6\">\n      <!-- 25 -->\n      <g transform=\"translate(205.3865 239.413656)scale(0.1 -0.1)\">\n       <use xlink:href=\"#DejaVuSans-50\"/>\n       <use x=\"63.623047\" xlink:href=\"#DejaVuSans-53\"/>\n      </g>\n     </g>\n    </g>\n   </g>\n   <g id=\"matplotlib.axis_2\">\n    <g id=\"ytick_1\">\n     <g id=\"line2d_7\">\n      <defs>\n       <path d=\"M 0 0 \nL -3.5 0 \n\" id=\"m0c8caa9c22\" style=\"stroke:#000000;stroke-width:0.8;\"/>\n      </defs>\n      <g>\n       <use style=\"stroke:#000000;stroke-width:0.8;\" x=\"26.925\" xlink:href=\"#m0c8caa9c22\" y=\"10.999219\"/>\n      </g>\n     </g>\n     <g id=\"text_7\">\n      <!-- 0 -->\n      <g transform=\"translate(13.5625 14.798437)scale(0.1 -0.1)\">\n       <use xlink:href=\"#DejaVuSans-48\"/>\n      </g>\n     </g>\n    </g>\n    <g id=\"ytick_2\">\n     <g id=\"line2d_8\">\n      <g>\n       <use style=\"stroke:#000000;stroke-width:0.8;\" x=\"26.925\" xlink:href=\"#m0c8caa9c22\" y=\"47.239219\"/>\n      </g>\n     </g>\n     <g id=\"text_8\">\n      <!-- 5 -->\n      <g transform=\"translate(13.5625 51.038437)scale(0.1 -0.1)\">\n       <use xlink:href=\"#DejaVuSans-53\"/>\n      </g>\n     </g>\n    </g>\n    <g id=\"ytick_3\">\n     <g id=\"line2d_9\">\n      <g>\n       <use style=\"stroke:#000000;stroke-width:0.8;\" x=\"26.925\" xlink:href=\"#m0c8caa9c22\" y=\"83.479219\"/>\n      </g>\n     </g>\n     <g id=\"text_9\">\n      <!-- 10 -->\n      <g transform=\"translate(7.2 87.278437)scale(0.1 -0.1)\">\n       <use xlink:href=\"#DejaVuSans-49\"/>\n       <use x=\"63.623047\" xlink:href=\"#DejaVuSans-48\"/>\n      </g>\n     </g>\n    </g>\n    <g id=\"ytick_4\">\n     <g id=\"line2d_10\">\n      <g>\n       <use style=\"stroke:#000000;stroke-width:0.8;\" x=\"26.925\" xlink:href=\"#m0c8caa9c22\" y=\"119.719219\"/>\n      </g>\n     </g>\n     <g id=\"text_10\">\n      <!-- 15 -->\n      <g transform=\"translate(7.2 123.518437)scale(0.1 -0.1)\">\n       <use xlink:href=\"#DejaVuSans-49\"/>\n       <use x=\"63.623047\" xlink:href=\"#DejaVuSans-53\"/>\n      </g>\n     </g>\n    </g>\n    <g id=\"ytick_5\">\n     <g id=\"line2d_11\">\n      <g>\n       <use style=\"stroke:#000000;stroke-width:0.8;\" x=\"26.925\" xlink:href=\"#m0c8caa9c22\" y=\"155.959219\"/>\n      </g>\n     </g>\n     <g id=\"text_11\">\n      <!-- 20 -->\n      <g transform=\"translate(7.2 159.758437)scale(0.1 -0.1)\">\n       <use xlink:href=\"#DejaVuSans-50\"/>\n       <use x=\"63.623047\" xlink:href=\"#DejaVuSans-48\"/>\n      </g>\n     </g>\n    </g>\n    <g id=\"ytick_6\">\n     <g id=\"line2d_12\">\n      <g>\n       <use style=\"stroke:#000000;stroke-width:0.8;\" x=\"26.925\" xlink:href=\"#m0c8caa9c22\" y=\"192.199219\"/>\n      </g>\n     </g>\n     <g id=\"text_12\">\n      <!-- 25 -->\n      <g transform=\"translate(7.2 195.998437)scale(0.1 -0.1)\">\n       <use xlink:href=\"#DejaVuSans-50\"/>\n       <use x=\"63.623047\" xlink:href=\"#DejaVuSans-53\"/>\n      </g>\n     </g>\n    </g>\n   </g>\n   <g id=\"patch_3\">\n    <path d=\"M 26.925 224.815219 \nL 26.925 7.375219 \n\" style=\"fill:none;stroke:#000000;stroke-linecap:square;stroke-linejoin:miter;stroke-width:0.8;\"/>\n   </g>\n   <g id=\"patch_4\">\n    <path d=\"M 244.365 224.815219 \nL 244.365 7.375219 \n\" style=\"fill:none;stroke:#000000;stroke-linecap:square;stroke-linejoin:miter;stroke-width:0.8;\"/>\n   </g>\n   <g id=\"patch_5\">\n    <path d=\"M 26.925 224.815219 \nL 244.365 224.815219 \n\" style=\"fill:none;stroke:#000000;stroke-linecap:square;stroke-linejoin:miter;stroke-width:0.8;\"/>\n   </g>\n   <g id=\"patch_6\">\n    <path d=\"M 26.925 7.375219 \nL 244.365 7.375219 \n\" style=\"fill:none;stroke:#000000;stroke-linecap:square;stroke-linejoin:miter;stroke-width:0.8;\"/>\n   </g>\n  </g>\n </g>\n <defs>\n  <clipPath id=\"pf9b0ab0cfe\">\n   <rect height=\"217.44\" width=\"217.44\" x=\"26.925\" y=\"7.375219\"/>\n  </clipPath>\n </defs>\n</svg>\n",
      "image/png": "[encoded data removed]"
     },
     "metadata": {
      "needs_background": "light"
     }
    }
   ],
   "source": [
    "tinyImg = cv2.imread(\"./assets/gray-tiny.jpg\")\n",
    "plt.imshow(tinyImg)"
   ]
  },
  {
   "cell_type": "code",
   "execution_count": 6,
   "id": "compact-repair",
   "metadata": {},
   "outputs": [
    {
     "output_type": "execute_result",
     "data": {
      "text/plain": [
       "array([[[254, 254, 254],\n",
       "        [254, 254, 254],\n",
       "        [255, 255, 255],\n",
       "        ...,\n",
       "        [252, 252, 252],\n",
       "        [253, 253, 253],\n",
       "        [254, 254, 254]],\n",
       "\n",
       "       [[254, 254, 254],\n",
       "        [254, 254, 254],\n",
       "        [255, 255, 255],\n",
       "        ...,\n",
       "        [253, 253, 253],\n",
       "        [254, 254, 254],\n",
       "        [254, 254, 254]],\n",
       "\n",
       "       [[255, 255, 255],\n",
       "        [255, 255, 255],\n",
       "        [255, 255, 255],\n",
       "        ...,\n",
       "        [253, 253, 253],\n",
       "        [254, 254, 254],\n",
       "        [254, 254, 254]],\n",
       "\n",
       "       ...,\n",
       "\n",
       "       [[254, 254, 254],\n",
       "        [254, 254, 254],\n",
       "        [254, 254, 254],\n",
       "        ...,\n",
       "        [254, 254, 254],\n",
       "        [251, 251, 251],\n",
       "        [250, 250, 250]],\n",
       "\n",
       "       [[254, 254, 254],\n",
       "        [254, 254, 254],\n",
       "        [254, 254, 254],\n",
       "        ...,\n",
       "        [254, 254, 254],\n",
       "        [252, 252, 252],\n",
       "        [251, 251, 251]],\n",
       "\n",
       "       [[254, 254, 254],\n",
       "        [254, 254, 254],\n",
       "        [254, 254, 254],\n",
       "        ...,\n",
       "        [254, 254, 254],\n",
       "        [253, 253, 253],\n",
       "        [252, 252, 252]]], dtype=uint8)"
      ]
     },
     "metadata": {},
     "execution_count": 6
    }
   ],
   "source": [
    "tinyImg # Masih RGB, hanya saja value tiap channel sama sehingga menghasilkan warna keabuan"
   ]
  },
  {
   "cell_type": "code",
   "execution_count": 7,
   "id": "necessary-workstation",
   "metadata": {},
   "outputs": [
    {
     "output_type": "execute_result",
     "data": {
      "text/plain": [
       "<matplotlib.image.AxesImage at 0x7f93e6645bb0>"
      ]
     },
     "metadata": {},
     "execution_count": 7
    },
    {
     "output_type": "display_data",
     "data": {
      "text/plain": "<Figure size 432x288 with 1 Axes>",
      "image/svg+xml": "<?xml version=\"1.0\" encoding=\"utf-8\" standalone=\"no\"?>\n<!DOCTYPE svg PUBLIC \"-//W3C//DTD SVG 1.1//EN\"\n  \"http://www.w3.org/Graphics/SVG/1.1/DTD/svg11.dtd\">\n<!-- Created with matplotlib (https://matplotlib.org/) -->\n<svg height=\"248.693344pt\" version=\"1.1\" viewBox=\"0 0 251.565 248.693344\" width=\"251.565pt\" xmlns=\"http://www.w3.org/2000/svg\" xmlns:xlink=\"http://www.w3.org/1999/xlink\">\n <metadata>\n  <rdf:RDF xmlns:cc=\"http://creativecommons.org/ns#\" xmlns:dc=\"http://purl.org/dc/elements/1.1/\" xmlns:rdf=\"http://www.w3.org/1999/02/22-rdf-syntax-ns#\">\n   <cc:Work>\n    <dc:type rdf:resource=\"http://purl.org/dc/dcmitype/StillImage\"/>\n    <dc:date>2021-03-20T10:31:57.488502</dc:date>\n    <dc:format>image/svg+xml</dc:format>\n    <dc:creator>\n     <cc:Agent>\n      <dc:title>Matplotlib v3.3.2, https://matplotlib.org/</dc:title>\n     </cc:Agent>\n    </dc:creator>\n   </cc:Work>\n  </rdf:RDF>\n </metadata>\n <defs>\n  <style type=\"text/css\">*{stroke-linecap:butt;stroke-linejoin:round;}</style>\n </defs>\n <g id=\"figure_1\">\n  <g id=\"patch_1\">\n   <path d=\"M 0 248.693344 \nL 251.565 248.693344 \nL 251.565 0 \nL 0 0 \nz\n\" style=\"fill:none;\"/>\n  </g>\n  <g id=\"axes_1\">\n   <g id=\"patch_2\">\n    <path d=\"M 26.925 224.815219 \nL 244.365 224.815219 \nL 244.365 7.375219 \nL 26.925 7.375219 \nz\n\" style=\"fill:#ffffff;\"/>\n   </g>\n   <g clip-path=\"url(#p41e585faee)\">\n    <image height=\"218\" id=\"image1e2e7c9cd4\" transform=\"scale(1 -1)translate(0 -218)\" width=\"218\" x=\"26.925\" xlink:href=\"data:image/png;base64,\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\" y=\"-6.815219\"/>\n   </g>\n   <g id=\"matplotlib.axis_1\">\n    <g id=\"xtick_1\">\n     <g id=\"line2d_1\">\n      <defs>\n       <path d=\"M 0 0 \nL 0 3.5 \n\" id=\"m9fe5cc5bbb\" style=\"stroke:#000000;stroke-width:0.8;\"/>\n      </defs>\n      <g>\n       <use style=\"stroke:#000000;stroke-width:0.8;\" x=\"30.549\" xlink:href=\"#m9fe5cc5bbb\" y=\"224.815219\"/>\n      </g>\n     </g>\n     <g id=\"text_1\">\n      <!-- 0 -->\n      <g transform=\"translate(27.36775 239.413656)scale(0.1 -0.1)\">\n       <defs>\n        <path d=\"M 31.78125 66.40625 \nQ 24.171875 66.40625 20.328125 58.90625 \nQ 16.5 51.421875 16.5 36.375 \nQ 16.5 21.390625 20.328125 13.890625 \nQ 24.171875 6.390625 31.78125 6.390625 \nQ 39.453125 6.390625 43.28125 13.890625 \nQ 47.125 21.390625 47.125 36.375 \nQ 47.125 51.421875 43.28125 58.90625 \nQ 39.453125 66.40625 31.78125 66.40625 \nz\nM 31.78125 74.21875 \nQ 44.046875 74.21875 50.515625 64.515625 \nQ 56.984375 54.828125 56.984375 36.375 \nQ 56.984375 17.96875 50.515625 8.265625 \nQ 44.046875 -1.421875 31.78125 -1.421875 \nQ 19.53125 -1.421875 13.0625 8.265625 \nQ 6.59375 17.96875 6.59375 36.375 \nQ 6.59375 54.828125 13.0625 64.515625 \nQ 19.53125 74.21875 31.78125 74.21875 \nz\n\" id=\"DejaVuSans-48\"/>\n       </defs>\n       <use xlink:href=\"#DejaVuSans-48\"/>\n      </g>\n     </g>\n    </g>\n    <g id=\"xtick_2\">\n     <g id=\"line2d_2\">\n      <g>\n       <use style=\"stroke:#000000;stroke-width:0.8;\" x=\"66.789\" xlink:href=\"#m9fe5cc5bbb\" y=\"224.815219\"/>\n      </g>\n     </g>\n     <g id=\"text_2\">\n      <!-- 5 -->\n      <g transform=\"translate(63.60775 239.413656)scale(0.1 -0.1)\">\n       <defs>\n        <path d=\"M 10.796875 72.90625 \nL 49.515625 72.90625 \nL 49.515625 64.59375 \nL 19.828125 64.59375 \nL 19.828125 46.734375 \nQ 21.96875 47.46875 24.109375 47.828125 \nQ 26.265625 48.1875 28.421875 48.1875 \nQ 40.625 48.1875 47.75 41.5 \nQ 54.890625 34.8125 54.890625 23.390625 \nQ 54.890625 11.625 47.5625 5.09375 \nQ 40.234375 -1.421875 26.90625 -1.421875 \nQ 22.3125 -1.421875 17.546875 -0.640625 \nQ 12.796875 0.140625 7.71875 1.703125 \nL 7.71875 11.625 \nQ 12.109375 9.234375 16.796875 8.0625 \nQ 21.484375 6.890625 26.703125 6.890625 \nQ 35.15625 6.890625 40.078125 11.328125 \nQ 45.015625 15.765625 45.015625 23.390625 \nQ 45.015625 31 40.078125 35.4375 \nQ 35.15625 39.890625 26.703125 39.890625 \nQ 22.75 39.890625 18.8125 39.015625 \nQ 14.890625 38.140625 10.796875 36.28125 \nz\n\" id=\"DejaVuSans-53\"/>\n       </defs>\n       <use xlink:href=\"#DejaVuSans-53\"/>\n      </g>\n     </g>\n    </g>\n    <g id=\"xtick_3\">\n     <g id=\"line2d_3\">\n      <g>\n       <use style=\"stroke:#000000;stroke-width:0.8;\" x=\"103.029\" xlink:href=\"#m9fe5cc5bbb\" y=\"224.815219\"/>\n      </g>\n     </g>\n     <g id=\"text_3\">\n      <!-- 10 -->\n      <g transform=\"translate(96.6665 239.413656)scale(0.1 -0.1)\">\n       <defs>\n        <path d=\"M 12.40625 8.296875 \nL 28.515625 8.296875 \nL 28.515625 63.921875 \nL 10.984375 60.40625 \nL 10.984375 69.390625 \nL 28.421875 72.90625 \nL 38.28125 72.90625 \nL 38.28125 8.296875 \nL 54.390625 8.296875 \nL 54.390625 0 \nL 12.40625 0 \nz\n\" id=\"DejaVuSans-49\"/>\n       </defs>\n       <use xlink:href=\"#DejaVuSans-49\"/>\n       <use x=\"63.623047\" xlink:href=\"#DejaVuSans-48\"/>\n      </g>\n     </g>\n    </g>\n    <g id=\"xtick_4\">\n     <g id=\"line2d_4\">\n      <g>\n       <use style=\"stroke:#000000;stroke-width:0.8;\" x=\"139.269\" xlink:href=\"#m9fe5cc5bbb\" y=\"224.815219\"/>\n      </g>\n     </g>\n     <g id=\"text_4\">\n      <!-- 15 -->\n      <g transform=\"translate(132.9065 239.413656)scale(0.1 -0.1)\">\n       <use xlink:href=\"#DejaVuSans-49\"/>\n       <use x=\"63.623047\" xlink:href=\"#DejaVuSans-53\"/>\n      </g>\n     </g>\n    </g>\n    <g id=\"xtick_5\">\n     <g id=\"line2d_5\">\n      <g>\n       <use style=\"stroke:#000000;stroke-width:0.8;\" x=\"175.509\" xlink:href=\"#m9fe5cc5bbb\" y=\"224.815219\"/>\n      </g>\n     </g>\n     <g id=\"text_5\">\n      <!-- 20 -->\n      <g transform=\"translate(169.1465 239.413656)scale(0.1 -0.1)\">\n       <defs>\n        <path d=\"M 19.1875 8.296875 \nL 53.609375 8.296875 \nL 53.609375 0 \nL 7.328125 0 \nL 7.328125 8.296875 \nQ 12.9375 14.109375 22.625 23.890625 \nQ 32.328125 33.6875 34.8125 36.53125 \nQ 39.546875 41.84375 41.421875 45.53125 \nQ 43.3125 49.21875 43.3125 52.78125 \nQ 43.3125 58.59375 39.234375 62.25 \nQ 35.15625 65.921875 28.609375 65.921875 \nQ 23.96875 65.921875 18.8125 64.3125 \nQ 13.671875 62.703125 7.8125 59.421875 \nL 7.8125 69.390625 \nQ 13.765625 71.78125 18.9375 73 \nQ 24.125 74.21875 28.421875 74.21875 \nQ 39.75 74.21875 46.484375 68.546875 \nQ 53.21875 62.890625 53.21875 53.421875 \nQ 53.21875 48.921875 51.53125 44.890625 \nQ 49.859375 40.875 45.40625 35.40625 \nQ 44.1875 33.984375 37.640625 27.21875 \nQ 31.109375 20.453125 19.1875 8.296875 \nz\n\" id=\"DejaVuSans-50\"/>\n       </defs>\n       <use xlink:href=\"#DejaVuSans-50\"/>\n       <use x=\"63.623047\" xlink:href=\"#DejaVuSans-48\"/>\n      </g>\n     </g>\n    </g>\n    <g id=\"xtick_6\">\n     <g id=\"line2d_6\">\n      <g>\n       <use style=\"stroke:#000000;stroke-width:0.8;\" x=\"211.749\" xlink:href=\"#m9fe5cc5bbb\" y=\"224.815219\"/>\n      </g>\n     </g>\n     <g id=\"text_6\">\n      <!-- 25 -->\n      <g transform=\"translate(205.3865 239.413656)scale(0.1 -0.1)\">\n       <use xlink:href=\"#DejaVuSans-50\"/>\n       <use x=\"63.623047\" xlink:href=\"#DejaVuSans-53\"/>\n      </g>\n     </g>\n    </g>\n   </g>\n   <g id=\"matplotlib.axis_2\">\n    <g id=\"ytick_1\">\n     <g id=\"line2d_7\">\n      <defs>\n       <path d=\"M 0 0 \nL -3.5 0 \n\" id=\"m170497c26e\" style=\"stroke:#000000;stroke-width:0.8;\"/>\n      </defs>\n      <g>\n       <use style=\"stroke:#000000;stroke-width:0.8;\" x=\"26.925\" xlink:href=\"#m170497c26e\" y=\"10.999219\"/>\n      </g>\n     </g>\n     <g id=\"text_7\">\n      <!-- 0 -->\n      <g transform=\"translate(13.5625 14.798437)scale(0.1 -0.1)\">\n       <use xlink:href=\"#DejaVuSans-48\"/>\n      </g>\n     </g>\n    </g>\n    <g id=\"ytick_2\">\n     <g id=\"line2d_8\">\n      <g>\n       <use style=\"stroke:#000000;stroke-width:0.8;\" x=\"26.925\" xlink:href=\"#m170497c26e\" y=\"47.239219\"/>\n      </g>\n     </g>\n     <g id=\"text_8\">\n      <!-- 5 -->\n      <g transform=\"translate(13.5625 51.038437)scale(0.1 -0.1)\">\n       <use xlink:href=\"#DejaVuSans-53\"/>\n      </g>\n     </g>\n    </g>\n    <g id=\"ytick_3\">\n     <g id=\"line2d_9\">\n      <g>\n       <use style=\"stroke:#000000;stroke-width:0.8;\" x=\"26.925\" xlink:href=\"#m170497c26e\" y=\"83.479219\"/>\n      </g>\n     </g>\n     <g id=\"text_9\">\n      <!-- 10 -->\n      <g transform=\"translate(7.2 87.278437)scale(0.1 -0.1)\">\n       <use xlink:href=\"#DejaVuSans-49\"/>\n       <use x=\"63.623047\" xlink:href=\"#DejaVuSans-48\"/>\n      </g>\n     </g>\n    </g>\n    <g id=\"ytick_4\">\n     <g id=\"line2d_10\">\n      <g>\n       <use style=\"stroke:#000000;stroke-width:0.8;\" x=\"26.925\" xlink:href=\"#m170497c26e\" y=\"119.719219\"/>\n      </g>\n     </g>\n     <g id=\"text_10\">\n      <!-- 15 -->\n      <g transform=\"translate(7.2 123.518437)scale(0.1 -0.1)\">\n       <use xlink:href=\"#DejaVuSans-49\"/>\n       <use x=\"63.623047\" xlink:href=\"#DejaVuSans-53\"/>\n      </g>\n     </g>\n    </g>\n    <g id=\"ytick_5\">\n     <g id=\"line2d_11\">\n      <g>\n       <use style=\"stroke:#000000;stroke-width:0.8;\" x=\"26.925\" xlink:href=\"#m170497c26e\" y=\"155.959219\"/>\n      </g>\n     </g>\n     <g id=\"text_11\">\n      <!-- 20 -->\n      <g transform=\"translate(7.2 159.758437)scale(0.1 -0.1)\">\n       <use xlink:href=\"#DejaVuSans-50\"/>\n       <use x=\"63.623047\" xlink:href=\"#DejaVuSans-48\"/>\n      </g>\n     </g>\n    </g>\n    <g id=\"ytick_6\">\n     <g id=\"line2d_12\">\n      <g>\n       <use style=\"stroke:#000000;stroke-width:0.8;\" x=\"26.925\" xlink:href=\"#m170497c26e\" y=\"192.199219\"/>\n      </g>\n     </g>\n     <g id=\"text_12\">\n      <!-- 25 -->\n      <g transform=\"translate(7.2 195.998437)scale(0.1 -0.1)\">\n       <use xlink:href=\"#DejaVuSans-50\"/>\n       <use x=\"63.623047\" xlink:href=\"#DejaVuSans-53\"/>\n      </g>\n     </g>\n    </g>\n   </g>\n   <g id=\"patch_3\">\n    <path d=\"M 26.925 224.815219 \nL 26.925 7.375219 \n\" style=\"fill:none;stroke:#000000;stroke-linecap:square;stroke-linejoin:miter;stroke-width:0.8;\"/>\n   </g>\n   <g id=\"patch_4\">\n    <path d=\"M 244.365 224.815219 \nL 244.365 7.375219 \n\" style=\"fill:none;stroke:#000000;stroke-linecap:square;stroke-linejoin:miter;stroke-width:0.8;\"/>\n   </g>\n   <g id=\"patch_5\">\n    <path d=\"M 26.925 224.815219 \nL 244.365 224.815219 \n\" style=\"fill:none;stroke:#000000;stroke-linecap:square;stroke-linejoin:miter;stroke-width:0.8;\"/>\n   </g>\n   <g id=\"patch_6\">\n    <path d=\"M 26.925 7.375219 \nL 244.365 7.375219 \n\" style=\"fill:none;stroke:#000000;stroke-linecap:square;stroke-linejoin:miter;stroke-width:0.8;\"/>\n   </g>\n  </g>\n </g>\n <defs>\n  <clipPath id=\"p41e585faee\">\n   <rect height=\"217.44\" width=\"217.44\" x=\"26.925\" y=\"7.375219\"/>\n  </clipPath>\n </defs>\n</svg>\n",
      "image/png": "[encoded data removed]"
     },
     "metadata": {
      "needs_background": "light"
     }
    }
   ],
   "source": [
    "gs_img = cv2.cvtColor(tinyImg, cv2.COLOR_BGR2GRAY)\n",
    "plt.imshow(gs_img, cmap='gray')"
   ]
  },
  {
   "cell_type": "code",
   "execution_count": 8,
   "id": "quality-appraisal",
   "metadata": {},
   "outputs": [
    {
     "output_type": "execute_result",
     "data": {
      "text/plain": [
       "array([[254, 254, 255, 255, 255, 255, 255, 255, 252, 254, 255, 248, 254,\n",
       "        252, 255, 254, 245, 255, 254, 253, 254, 255, 246, 253, 252, 252,\n",
       "        252, 252, 253, 254],\n",
       "       [254, 254, 255, 255, 255, 255, 255, 255, 255, 250, 254, 255, 255,\n",
       "        242, 254, 252, 255, 250, 255, 252, 252, 242, 255, 250, 253, 253,\n",
       "        252, 253, 254, 254],\n",
       "       [255, 255, 255, 255, 255, 255, 254, 254, 254, 254, 250, 248, 255,\n",
       "        253, 255, 253, 238, 251, 252, 255, 248, 251, 252, 253, 254, 254,\n",
       "        253, 253, 254, 254],\n",
       "       [255, 255, 255, 255, 255, 255, 254, 254, 250, 255, 253, 239, 254,\n",
       "        251, 254, 241, 188, 227, 252, 252, 254, 253, 249, 252, 255, 254,\n",
       "        254, 254, 254, 254],\n",
       "       [255, 255, 255, 255, 255, 255, 254, 254, 255, 250, 255, 254, 251,\n",
       "        240, 254, 178, 163, 201, 216, 253, 252, 249, 251, 246, 255, 254,\n",
       "        253, 253, 254, 254],\n",
       "       [255, 255, 255, 255, 255, 255, 254, 254, 255, 250, 255, 255, 250,\n",
       "        255, 253,  83, 189, 213, 158, 230, 254, 255, 249, 246, 254, 254,\n",
       "        253, 253, 253, 254],\n",
       "       [254, 254, 255, 255, 255, 255, 255, 255, 254, 255, 253, 248, 253,\n",
       "        237, 175,  50, 224, 238, 147, 173, 243, 252, 252, 250, 254, 253,\n",
       "        253, 253, 253, 254],\n",
       "       [254, 254, 255, 255, 255, 255, 255, 255, 253, 255, 255, 250, 255,\n",
       "        168,  52,  83, 231, 251, 162, 146, 194, 248, 251, 253, 254, 253,\n",
       "        253, 253, 254, 255],\n",
       "       [255, 243, 251, 255, 250, 254, 255, 250, 255, 242, 253, 243, 111,\n",
       "         73,  70, 110, 253, 251, 183, 154, 150, 228, 254, 248, 253, 253,\n",
       "        254, 255, 255, 254],\n",
       "       [249, 253, 251, 249, 255, 255, 250, 255, 244, 255, 184,  77,  79,\n",
       "         83,  61, 175, 255, 244, 176, 156, 149, 194, 252, 255, 252, 253,\n",
       "        253, 254, 254, 254],\n",
       "       [251, 253, 248, 253, 255, 252, 254, 251, 226, 106,  57,  75,  76,\n",
       "         84,  67, 165, 255, 247, 165, 156, 151, 159, 243, 255, 251, 252,\n",
       "        253, 253, 254, 254],\n",
       "       [254, 249, 248, 255, 250, 253, 240, 166,  65,  71,  81,  75,  66,\n",
       "         96, 136,  92, 233, 255, 154, 154, 157, 148, 228, 251, 251, 252,\n",
       "        253, 253, 254, 254],\n",
       "       [251, 252, 255, 254, 250, 249, 167,  62,  71,  75,  92,  73,  68,\n",
       "        213, 130,  52, 157, 242, 148, 154, 161, 151, 209, 250, 252, 253,\n",
       "        253, 254, 254, 254],\n",
       "       [255, 252, 255, 250, 253, 212,  76,  65,  93,  77,  62,  93, 217,\n",
       "        253, 198,  64,  84, 205, 145, 154, 158, 149, 190, 251, 253, 253,\n",
       "        254, 254, 254, 255],\n",
       "       [255, 252, 254, 254, 254, 190,  44, 100,  65,  71, 142, 239, 253,\n",
       "        239, 255, 179,  81, 177, 147, 153, 156, 145, 183, 250, 254, 254,\n",
       "        254, 254, 254, 254],\n",
       "       [248, 255, 253, 252, 251, 210,  64,  72,  89, 209, 248, 253, 245,\n",
       "        255, 253, 221, 123, 171, 153, 154, 160, 146, 185, 249, 254, 254,\n",
       "        254, 254, 254, 254],\n",
       "       [255, 250, 255, 254, 254, 250, 176,  64, 213, 249, 255, 254, 251,\n",
       "        251, 250, 230, 165, 163, 155, 160, 155, 146, 200, 246, 254, 254,\n",
       "        254, 254, 254, 254],\n",
       "       [254, 252, 255, 255, 250, 255, 241, 194, 219, 248, 254, 253, 252,\n",
       "        253, 255, 240, 179, 152, 161, 152, 157, 151, 188, 252, 254, 254,\n",
       "        254, 254, 254, 253],\n",
       "       [255, 251, 255, 255, 249, 254, 255, 254, 235, 254, 255, 255, 255,\n",
       "        254, 255, 249, 192, 148, 160, 151, 163, 150, 198, 255, 254, 254,\n",
       "        254, 254, 254, 254],\n",
       "       [255, 250, 251, 255, 255, 253, 252, 253, 250, 255, 255, 255, 255,\n",
       "        253, 254, 252, 195, 150, 153, 158, 161, 146, 231, 252, 255, 255,\n",
       "        255, 255, 255, 254],\n",
       "       [255, 255, 253, 253, 255, 254, 254, 255, 252, 254, 252, 254, 255,\n",
       "        252, 252, 254, 198, 142, 155, 159, 149, 164, 253, 249, 254, 255,\n",
       "        255, 255, 254, 253],\n",
       "       [252, 255, 255, 251, 251, 252, 252, 253, 253, 253, 252, 253, 255,\n",
       "        253, 251, 253, 215, 140, 164, 154, 146, 205, 254, 252, 253, 254,\n",
       "        255, 254, 252, 251],\n",
       "       [250, 254, 255, 254, 255, 255, 254, 252, 255, 255, 255, 254, 255,\n",
       "        255, 251, 252, 238, 164, 158, 150, 162, 239, 250, 255, 252, 253,\n",
       "        254, 253, 251, 249],\n",
       "       [255, 255, 254, 254, 254, 254, 255, 255, 252, 254, 255, 252, 255,\n",
       "        255, 252, 253, 251, 194, 141, 149, 182, 251, 250, 255, 253, 254,\n",
       "        254, 253, 251, 249],\n",
       "       [255, 255, 255, 255, 255, 255, 255, 255, 255, 255, 255, 255, 255,\n",
       "        255, 255, 255, 250, 251, 165, 134, 196, 253, 249, 255, 253, 254,\n",
       "        255, 254, 251, 249],\n",
       "       [255, 255, 255, 255, 255, 255, 255, 255, 255, 255, 255, 255, 255,\n",
       "        255, 254, 254, 253, 249, 223, 151, 178, 249, 255, 255, 253, 254,\n",
       "        255, 253, 251, 249],\n",
       "       [254, 254, 254, 254, 254, 254, 254, 254, 255, 255, 255, 254, 254,\n",
       "        254, 254, 254, 251, 255, 249, 208, 157, 253, 248, 255, 253, 254,\n",
       "        254, 253, 251, 249],\n",
       "       [254, 254, 254, 254, 254, 254, 254, 254, 254, 254, 254, 254, 254,\n",
       "        254, 254, 254, 254, 251, 252, 247, 197, 237, 251, 253, 253, 254,\n",
       "        255, 254, 251, 250],\n",
       "       [254, 254, 254, 254, 254, 254, 254, 254, 254, 254, 254, 254, 254,\n",
       "        254, 254, 254, 255, 249, 251, 255, 249, 229, 255, 253, 254, 255,\n",
       "        255, 254, 252, 251],\n",
       "       [254, 254, 254, 254, 254, 254, 254, 254, 254, 254, 254, 254, 254,\n",
       "        254, 254, 254, 252, 255, 251, 255, 255, 244, 255, 255, 254, 255,\n",
       "        255, 254, 253, 252]], dtype=uint8)"
      ]
     },
     "metadata": {},
     "execution_count": 8
    }
   ],
   "source": [
    "gs_img"
   ]
  },
  {
   "cell_type": "code",
   "execution_count": null,
   "id": "unlimited-teddy",
   "metadata": {},
   "outputs": [],
   "source": [
    "# 254 254 255 255 255 255 255 255 252 254 255 248 254 252 255 254 245 255 254 253 254 255 246 253 252 252 252 252 253 254\n",
    "# 254 254 255 255 255 255 255 255 255 250 254 255 255 242 254 252 255 250 255 252 252 242 255 250 253 253 252 253 254 254\n",
    "# 255 255 255 255 255 255 254 254 254 254 250 248 255 253 255 253 238 251 252 255 248 251 252 253 254 254 253 253 254 254\n",
    "# 255 255 255 255 255 255 254 254 250 255 253 239 254 251 254 241 188 227 252 252 254 253 249 252 255 254 254 254 254 254\n",
    "# 255 255 255 255 255 255 254 254 255 250 255 254 251 240 254 178 163 201 216 253 252 249 251 246 255 254 253 253 254 254\n",
    "# 255 255 255 255 255 255 254 254 255 250 255 255 250 255 253  83 189 213 158 230 254 255 249 246 254 254 253 253 253 254\n",
    "# 254 254 255 255 255 255 255 255 254 255 253 248 253 237 175  50 224 238 147 173 243 252 252 250 254 253 253 253 253 254\n",
    "# 254 254 255 255 255 255 255 255 253 255 255 250 255 168  52  83 231 251 162 146 194 248 251 253 254 253 253 253 254 255\n",
    "# 255 243 251 255 250 254 255 250 255 242 253 243 111  73  70 110 253 251 183 154 150 228 254 248 253 253 254 255 255 254\n",
    "# 249 253 251 249 255 255 250 255 244 255 184  77  79  83  61 175 255 244 176 156 149 194 252 255 252 253 253 254 254 254\n",
    "# 251 253 248 253 255 252 254 251 226 106  57  75  76  84  67 165 255 247 165 156 151 159 243 255 251 252 253 253 254 254\n",
    "# 254 249 248 255 250 253 240 166  65  71  81  75  66  96 136  92 233 255 154 154 157 148 228 251 251 252 253 253 254 254\n",
    "# 251 252 255 254 250 249 167  62  71  75  92  73  68 213 130  52 157 242  148 154 161 151 209 250 252 253 253 254 254 254\n",
    "# 255 252 255 250 253 212  76  65  93  77  62  93 217 253 198  64  84 205 145 154 158 149 190 251 253 253 254 254 254 255\n",
    "# 255 252 254 254 254 190  44 100  65  71 142 239 253 239 255 179  81 177 147 153 156 145 183 250 254 254 254 254 254 254\n",
    "# 248 255 253 252 251 210  64  72  89 209 248 253 245 255 253 221 123 171 153 154 160 146 185 249 254 254 254 254 254 254\n",
    "# 255 250 255 254 254 250 176  64 213 249 255 254 251 251 250 230 165 163 155 160 155 146 200 246 254 254 254 254 254 254\n",
    "# 254 252 255 255 250 255 241 194 219 248 254 253 252 253 255 240 179 152 161 152 157 151 188 252 254 254 254 254 254 253\n",
    "# 255 251 255 255 249 254 255 254 235 254 255 255 255 254 255 249 192 148 160 151 163 150 198 255 254 254 254 254 254 254\n",
    "# 255 250 251 255 255 253 252 253 250 255 255 255 255 253 254 252 195 150 153 158 161 146 231 252 255 255 255 255 255 254\n",
    "# 255 255 253 253 255 254 254 255 252 254 252 254 255 252 252 254 198 142 155 159 149 164 253 249 254 255 255 255 254 253\n",
    "# 252 255 255 251 251 252 252 253 253 253 252 253 255 253 251 253 215 140164 154 146 205 254 252 253 254 255 254 252 251\n",
    "# 250 254 255 254 255 255 254 252 255 255 255 254 255 255 251 252 238 164158 150 162 239 250 255 252 253 254 253 251 249\n",
    "# 255 255 254 254 254 254 255 255 252 254 255 252 255 255 252 253 251 194 141 149 182 251 250 255 253 254 254 253 251 249\n",
    "# 255 255 255 255 255 255 255 255 255 255 255 255 255 255 255 255 250 251 165 134 196 253 249 255 253 254 255 254 251 249\n",
    "# 255 255 255 255 255 255 255 255 255 255 255 255 255 255 254 254 253 249 223 151 178 249 255 255 253 254 255 253 251 249\n",
    "# 254 254 254 254 254 254 254 254 255 255 255 254 254 254 254 254 251 255 249 208 157 253 248 255 253 254 254 253 251 249\n",
    "# 254 254 254 254 254 254 254 254 254 254 254 254 254 254 254 254 254 251 252 247 197 237 251 253 253 254 255 254 251 250\n",
    "# 254 254 254 254 254 254 254 254 254 254 254 254 254 254 254 254 255 249 251 255 249 229 255 253 254 255 255 254 252 251\n",
    "# 254 254 254 254 254 254 254 254 254 254 254 254 254 254 254 254 252 255 251 255 255 244 255 255 254 255 255 254 253 252"
   ]
  },
  {
   "cell_type": "code",
   "execution_count": null,
   "id": "roman-prisoner",
   "metadata": {},
   "outputs": [],
   "source": []
  }
 ],
 "metadata": {
  "kernelspec": {
   "display_name": "Python 3",
   "language": "python",
   "name": "python3"
  },
  "language_info": {
   "codemirror_mode": {
    "name": "ipython",
    "version": 3
   },
   "file_extension": ".py",
   "mimetype": "text/x-python",
   "name": "python",
   "nbconvert_exporter": "python",
   "pygments_lexer": "ipython3",
   "version": "3.8.5-final"
  }
 },
 "nbformat": 4,
 "nbformat_minor": 5
}